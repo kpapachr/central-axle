{
 "cells": [
  {
   "cell_type": "code",
   "execution_count": 1,
   "metadata": {
    "collapsed": false
   },
   "outputs": [],
   "source": [
    "import MDAnalysis as md\n",
    "import numpy as np\n",
    "import pandas as pd\n",
    "import sklearn \n",
    "\n",
    "import glob"
   ]
  },
  {
   "cell_type": "code",
   "execution_count": 96,
   "metadata": {
    "collapsed": false
   },
   "outputs": [],
   "source": [
    "PDB = '../data/rotor-ca.pdb'\n",
    "u = md.Universe(PDB,PDB)\n",
    "\n",
    "# Align protein along the Z axis\n",
    "u.atoms.align_principalAxis(0, [0,0,1])\n",
    "\n",
    "# Translate protein to the origin of axes\n",
    "u.atoms.translate(u.atoms.centroid()-np.array([0,0,0]))\n",
    "\n",
    "# Get the z-coordinates\n",
    "z = u.atoms.positions[:,2].reshape((289,1))\n",
    "\n",
    "# Build now a GMM \n",
    "from sklearn import mixture\n",
    "\n",
    "gmm = mixture.GMM(n_components=4, covariance_type='diag', )\n",
    "gmm.fit( z)\n",
    "cluster_id = gmm.predict( z )\n",
    "\n",
    "u.atoms.set_bfactor(cluster_id)\n",
    "u.atoms.write('rotor_CG_GMM_4_diag.pdb')"
   ]
  },
  {
   "cell_type": "code",
   "execution_count": 155,
   "metadata": {
    "collapsed": false
   },
   "outputs": [
    {
     "name": "stdout",
     "output_type": "stream",
     "text": [
      "3\n"
     ]
    }
   ],
   "source": [
    "dpgmm = mixture.DPGMM(n_components=10, covariance_type='spherical', n_iter=1000)\n",
    "dpgmm.fit( z )\n",
    "cluster_id = dpgmm.predict( z )\n",
    "\n",
    "print np.unique( cluster_id ).size\n",
    "\n",
    "u.atoms.set_bfactor(cluster_id)\n",
    "u.atoms.write('rotor_CG_DPGMM_diag.pdb')"
   ]
  },
  {
   "cell_type": "code",
   "execution_count": 4,
   "metadata": {
    "collapsed": false
   },
   "outputs": [
    {
     "name": "stdout",
     "output_type": "stream",
     "text": [
      "0.0\n"
     ]
    }
   ],
   "source": [
    "PDB = '../data/rotor-ca.pdb'\n",
    "u = md.Universe(PDB,PDB)\n",
    "\n",
    "# Align protein along the Z axis\n",
    "u.atoms.align_principalAxis(0, [0,0,1])\n",
    "\n",
    "# Translate protein to the origin of axes\n",
    "u.atoms.translate(u.atoms.centroid()-np.array([0,0,0]))\n",
    "\n",
    "from hamiltonian import *\n",
    "model = EDENMHamiltonian(u.atoms.positions, split_chain_ID=187) # resid to split chains\n",
    "print model.evaluate_energy(u.atoms.positions)"
   ]
  },
  {
   "cell_type": "code",
   "execution_count": null,
   "metadata": {
    "collapsed": true
   },
   "outputs": [],
   "source": []
  }
 ],
 "metadata": {
  "kernelspec": {
   "display_name": "Python 2",
   "language": "python",
   "name": "python2"
  },
  "language_info": {
   "codemirror_mode": {
    "name": "ipython",
    "version": 2
   },
   "file_extension": ".py",
   "mimetype": "text/x-python",
   "name": "python",
   "nbconvert_exporter": "python",
   "pygments_lexer": "ipython2",
   "version": "2.7.10"
  }
 },
 "nbformat": 4,
 "nbformat_minor": 0
}
